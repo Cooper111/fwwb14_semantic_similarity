{
 "cells": [
  {
   "cell_type": "code",
   "execution_count": 12,
   "metadata": {},
   "outputs": [],
   "source": [
    "import os\n",
    "import sys\n",
    "import numpy as np\n",
    "import pandas as pd\n",
    "import jieba\n",
    "import re \n",
    "import matplotlib.pyplot as plt"
   ]
  },
  {
   "cell_type": "code",
   "execution_count": 50,
   "metadata": {},
   "outputs": [],
   "source": [
    "#无用，分词时已经处理stopwords\n",
    "jieba.load_userdict('D:\\\\Jupyter\\\\NLP\\\\mayijinrong-wenbenxiangsidu\\\\atec\\\\data\\\\share\\\\jieba\\\\jieba_dict.txt')\n",
    "stopwords = [line.strip() for line in open('D:\\\\Jupyter\\\\NLP\\\\mayijinrong-wenbenxiangsidu\\\\atec\\\\data\\\\share\\\\jieba\\\\stops.txt', 'r', encoding='utf-8').readlines()]"
   ]
  },
  {
   "cell_type": "code",
   "execution_count": 62,
   "metadata": {},
   "outputs": [],
   "source": [
    "row_data = pd.read_csv('./data/cache/train_cut.csv', encoding='gbk')"
   ]
  },
  {
   "cell_type": "code",
   "execution_count": 63,
   "metadata": {},
   "outputs": [],
   "source": [
    "word_data = pd.concat([row_data['q_cut_word'], row_data['a_cut_word']], axis=0)"
   ]
  },
  {
   "cell_type": "markdown",
   "metadata": {},
   "source": [
    "#### ==================Test=================="
   ]
  },
  {
   "cell_type": "code",
   "execution_count": 64,
   "metadata": {},
   "outputs": [
    {
     "name": "stdout",
     "output_type": "stream",
     "text": [
      "['上海证券交易所', '集中', '竞价', '交易']\n",
      "<class 'str'>\n"
     ]
    }
   ],
   "source": [
    "fuck = word_data.iloc[0]\n",
    "print(fuck)\n",
    "print(type(fuck))"
   ]
  },
  {
   "cell_type": "code",
   "execution_count": 65,
   "metadata": {},
   "outputs": [
    {
     "name": "stdout",
     "output_type": "stream",
     "text": [
      "['上海证券交易所', ' 集中', ' 竞价', ' 交易']\n",
      "<class 'list'>\n"
     ]
    }
   ],
   "source": [
    "print(re.sub(r'\\'|\\[|\\]', '', fuck).split(','))\n",
    "print(type(re.sub(r'\\'|\\[|\\]', '', fuck).split(',')))"
   ]
  },
  {
   "cell_type": "markdown",
   "metadata": {},
   "source": [
    "#### =========================================="
   ]
  },
  {
   "cell_type": "code",
   "execution_count": 66,
   "metadata": {},
   "outputs": [],
   "source": [
    "def str_to_list(x):\n",
    "    return re.sub(r'\\'|\\[|\\]', '', x).split(',')"
   ]
  },
  {
   "cell_type": "code",
   "execution_count": 67,
   "metadata": {},
   "outputs": [],
   "source": [
    "word_data = word_data.apply(lambda x: str_to_list(x))"
   ]
  },
  {
   "cell_type": "code",
   "execution_count": 68,
   "metadata": {},
   "outputs": [
    {
     "data": {
      "text/plain": [
       "list"
      ]
     },
     "execution_count": 68,
     "metadata": {},
     "output_type": "execute_result"
    }
   ],
   "source": [
    "type(word_data.iloc[0])"
   ]
  },
  {
   "cell_type": "code",
   "execution_count": 69,
   "metadata": {},
   "outputs": [],
   "source": [
    "word_level = []\n",
    "for i in range(word_data.shape[0]):\n",
    "    word_level.extend(word_data.iloc[i])"
   ]
  },
  {
   "cell_type": "code",
   "execution_count": 70,
   "metadata": {},
   "outputs": [
    {
     "data": {
      "text/plain": [
       "['上海证券交易所', ' 集中', ' 竞价', ' 交易', '普通', ' 账户', ' 信用', ' 账户', ' 共用', ' 一张']"
      ]
     },
     "execution_count": 70,
     "metadata": {},
     "output_type": "execute_result"
    }
   ],
   "source": [
    "word_level[:10]"
   ]
  },
  {
   "cell_type": "code",
   "execution_count": 71,
   "metadata": {},
   "outputs": [
    {
     "name": "stdout",
     "output_type": "stream",
     "text": [
      " 账户\t4500\n",
      " 交易\t3600\n",
      " 股票\t3369\n",
      " 三板\t2594\n",
      "新\t2280\n",
      "信用\t2063\n",
      " 转\t1910\n",
      " 开通\t1846\n",
      " 证券\t1800\n",
      " 新股\t1726\n",
      "新股申购\t1511\n",
      " 密码\t1452\n",
      " 上市\t1407\n",
      " 权限\t1300\n",
      " 资金\t1265\n",
      " 银行\t1250\n",
      "新股\t1195\n",
      " 后\t1104\n",
      "借呗\t1093\n",
      " 条件\t1053\n"
     ]
    }
   ],
   "source": [
    "from collections import Counter\n",
    "\n",
    "total_term_frequency = Counter(word_level)\n",
    "\n",
    "for word, freq in total_term_frequency.most_common(20):\n",
    "    print(\"{}\\t{}\".format(word, freq))"
   ]
  },
  {
   "cell_type": "markdown",
   "metadata": {},
   "source": [
    "# 原数据分布"
   ]
  },
  {
   "cell_type": "code",
   "execution_count": 4,
   "metadata": {},
   "outputs": [],
   "source": [
    "train = pd.read_csv('../train.csv', encoding='gbk')"
   ]
  },
  {
   "cell_type": "code",
   "execution_count": 9,
   "metadata": {},
   "outputs": [],
   "source": [
    "x = list(train['知识库标准问'].value_counts())"
   ]
  },
  {
   "cell_type": "code",
   "execution_count": 10,
   "metadata": {},
   "outputs": [
    {
     "data": {
      "text/plain": [
       "209"
      ]
     },
     "execution_count": 10,
     "metadata": {},
     "output_type": "execute_result"
    }
   ],
   "source": [
    "len(x)"
   ]
  },
  {
   "cell_type": "code",
   "execution_count": 16,
   "metadata": {},
   "outputs": [
    {
     "data": {
      "image/png": "[encoded data removed]",
      "text/plain": [
       "<Figure size 432x288 with 1 Axes>"
      ]
     },
     "metadata": {},
     "output_type": "display_data"
    }
   ],
   "source": [
    "\n",
    "n = 12\n",
    "X = np.arange( len(x) )\n",
    "Y1 = x\n",
    "\n",
    "plt.bar(X, Y1)\n",
    "plt.xlabel('Standard Question')\n",
    "plt.ylabel('Number')\n",
    "# plt.xlim(-.5, n)\n",
    "# plt.xticks(())\n",
    "# plt.ylim(-1.25, 1.25)\n",
    "# plt.yticks(())\n",
    "\n",
    "plt.show()"
   ]
  },
  {
   "cell_type": "markdown",
   "metadata": {},
   "source": [
    "# 更改后数据分布"
   ]
  },
  {
   "cell_type": "code",
   "execution_count": 18,
   "metadata": {},
   "outputs": [],
   "source": [
    "train = pd.read_csv('../right.csv', encoding='gbk')"
   ]
  },
  {
   "cell_type": "code",
   "execution_count": 19,
   "metadata": {},
   "outputs": [],
   "source": [
    "x = list(train['知识库标准问'].value_counts())"
   ]
  },
  {
   "cell_type": "code",
   "execution_count": 20,
   "metadata": {},
   "outputs": [
    {
     "data": {
      "image/png": "[encoded data removed]",
      "text/plain": [
       "<Figure size 432x288 with 1 Axes>"
      ]
     },
     "metadata": {},
     "output_type": "display_data"
    }
   ],
   "source": [
    "\n",
    "n = 12\n",
    "X = np.arange( len(x) )\n",
    "Y1 = x\n",
    "\n",
    "plt.bar(X, Y1)\n",
    "plt.xlabel('Standard Question')\n",
    "plt.ylabel('Number')\n",
    "# plt.xlim(-.5, n)\n",
    "# plt.xticks(())\n",
    "# plt.ylim(-1.25, 1.25)\n",
    "# plt.yticks(())\n",
    "\n",
    "plt.show()"
   ]
  },
  {
   "cell_type": "code",
   "execution_count": null,
   "metadata": {},
   "outputs": [],
   "source": []
  }
 ],
 "metadata": {
  "kernelspec": {
   "display_name": "tensorflow-gpu",
   "language": "python",
   "name": "tensorflow-gpu"
  },
  "language_info": {
   "codemirror_mode": {
    "name": "ipython",
    "version": 3
   },
   "file_extension": ".py",
   "mimetype": "text/x-python",
   "name": "python",
   "nbconvert_exporter": "python",
   "pygments_lexer": "ipython3",
   "version": "3.6.6"
  }
 },
 "nbformat": 4,
 "nbformat_minor": 2
}
